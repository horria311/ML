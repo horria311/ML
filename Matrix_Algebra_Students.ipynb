{
  "cells": [
    {
      "cell_type": "markdown",
      "metadata": {
        "id": "view-in-github",
        "colab_type": "text"
      },
      "source": [
        "<a href=\"https://colab.research.google.com/github/horria311/ML/blob/main/Matrix_Algebra_Students.ipynb\" target=\"_parent\"><img src=\"https://colab.research.google.com/assets/colab-badge.svg\" alt=\"Open In Colab\"/></a>"
      ]
    },
    {
      "cell_type": "markdown",
      "metadata": {
        "id": "iVMVKkGQfUxM"
      },
      "source": [
        "## Matrix Algebra"
      ]
    },
    {
      "cell_type": "markdown",
      "metadata": {
        "id": "CMqTta4XfUxQ"
      },
      "source": [
        "In this section we look at matrix algebra and some of its common properties.  We will also see how operations involving matrices are connected to linear systems of equations.\n",
        "\n",
        "A **matrix** a is two-dimensional array of numbers.  When we do computations with matrices using NumPy, we will be using arrays just as we did before.  Let's write down some of examples of matrices and give them names.\n",
        "\n",
        "$$\n",
        "\\begin{equation}\n",
        "A = \\left[ \\begin{array}{rr} 1 & 3 \\\\ 2 & 1 \\end{array}\\right] \\hspace{1cm} \n",
        "B = \\left[ \\begin{array}{rrr} 3 & 0 & 4 \\\\ -1 & -2 & 1 \\end{array}\\right] \\hspace{1cm}\n",
        "C = \\left[ \\begin{array}{rr} -2 & 1 \\\\ 4 & 1 \\end{array}\\right] \\hspace{1cm}\n",
        "D = \\left[ \\begin{array}{r} 2 \\\\ 6 \\end{array}\\right]\n",
        "\\end{equation}\n",
        "$$\n",
        "\n",
        "When discussing matrices it is common to talk about their dimensions, or shape, by specifying the number of rows and columns.  The number of rows is usually listed first.  For our examples, $A$ and $C$ are $2\\times 2$ matrices, $B$ is a $2 \\times 3$ matrix, and $D$ is a $2 \\times 1 $ matrix.  Matrices that have only 1 column, such as $D$, are commonly referred to as **vectors**.  We will adhere to this convention as well, but do be aware that when we make statements about matrices, we are also making statements about vectors even if we don't explicitly mention them.  We will also adopt the common convention of using uppercase letters to name matrices.\n",
        "\n",
        "It is also necessary to talk about the individual entries of matrices.  The common notation for this is a lowercase letter with subscripts to denote the position of the entry in the matrix.  So $b_{12}$ refers to the 0 in the first row and second column of the matrix $B$.  If we are talking about generic positions, we might use variables in the subscripts, such as $a_{ij}$.\n",
        "\n",
        "Let's create these matrices as NumPy arrays before further discussion."
      ]
    },
    {
      "cell_type": "code",
      "execution_count": 73,
      "metadata": {
        "id": "gSpNS5hpfUxR",
        "outputId": "95d1cac0-28b9-46e7-a49b-eb30aa943178",
        "colab": {
          "base_uri": "https://localhost:8080/"
        }
      },
      "outputs": [
        {
          "output_type": "stream",
          "name": "stdout",
          "text": [
            "[[ 3  0  4]\n",
            " [-1 -2  1]]\n"
          ]
        }
      ],
      "source": [
        "import numpy as np\n",
        "A = np.array([[1, 3],[2,1]])\n",
        "B = np.array([[3, 0, 4],[-1, -2, 1]])\n",
        "C = np.array([[-2, 1],[4, 1]])\n",
        "D = np.array([[2],[6]])\n",
        "print(B)"
      ]
    },
    {
      "cell_type": "markdown",
      "metadata": {
        "id": "nn2suANpfUxU"
      },
      "source": [
        "It will be useful for us to access the dimensions of our arrays.  When the array is created, this information gets stored as part of the array object and can be accessed with a method called $\\texttt{shape}$.  If $\\texttt{B}$ is an array, the object $\\texttt{B.shape}$ is itself an array that has two entries.  The first (*with index 0!*) is the number of rows, and the second (*with index 1!*) is the number of columns."
      ]
    },
    {
      "cell_type": "code",
      "execution_count": 74,
      "metadata": {
        "id": "CX-3WsF7fUxU",
        "outputId": "c2af0fb5-cb27-480c-d919-8a1967f33d93",
        "colab": {
          "base_uri": "https://localhost:8080/"
        }
      },
      "outputs": [
        {
          "output_type": "stream",
          "name": "stdout",
          "text": [
            "Array B has 2 rows.\n",
            "Array B has 2 columns.\n"
          ]
        }
      ],
      "source": [
        "print(\"Array B has\",A.shape[0],\"rows.\")\n",
        "print(\"Array B has\",A.shape[1],\"columns.\")      "
      ]
    },
    {
      "cell_type": "markdown",
      "metadata": {
        "id": "wRw8mJOnfUxV"
      },
      "source": [
        "### Operations on matrices\n",
        "\n",
        "There are three algebraic operations for matrices that we will need to perform.  For our definitions let us suppose that $A$ and $C$ are $m \\times n$ matrices, $B$ is an $n \\times k$ matrix, and $c$ is a number.  When discussing algebra involving matrices and numbers, the numbers are usually referred to as **scalars**. \n",
        "\n",
        "1. A matrix of any shape can be multiplied by a scalar.  The result is that all entries are multiplied by that scalar.  Using the subscript notation, we would write\n",
        "\n",
        "$$\n",
        "(cA)_{ij} = ca_{ij}\n",
        "$$\n",
        "\n",
        "2. Two matrices that *have the same shape* can be added.  The result is that all corresponding entries are added.\n",
        "\n",
        "$$\n",
        "(A+C)_{ij} = a_{ij} + c_{ij}\n",
        "$$\n",
        "\n",
        "3. If the number of columns of matrix $A$ is equal to the number of rows of matrix $B$, the matrices can be multiplied in the order $A$, $B$.  The result will be a new matrix $AB$, that has the same number of rows as $A$ and the same number of columns as $B$.  The entries $(AB)_{ij}$ will be the following combination of the entries of row $i$ of $A$ and column $j$ of $B$.\n",
        "\n",
        "$$\n",
        "(AB)_{ij} = \\sum_{k=1}^n a_{ik}b_{kj}\n",
        "$$\n",
        "\n",
        "The last operation, known as **matrix multiplication**, is the most complex and least intuitive of the three.  No doubt this last formula is a bit intimidating the first time we read it.  Let's give some examples to clarify.\n",
        "\n",
        "1.  The multiplication of a number and a matrix:\n",
        "\n",
        "$$\n",
        "\\begin{equation}\n",
        "3A = 3\\left[ \\begin{array}{rr} 1 & 3 \\\\ 2 & 1 \\end{array}\\right] \n",
        "= \\left[ \\begin{array}{rr} 3 & 9 \\\\ 6 & 3 \\end{array}\\right]\n",
        "\\end{equation}\n",
        "$$\n",
        "\n",
        "2. The sum of two matrices of the same shape:\n",
        "\n",
        "$$\n",
        "\\begin{equation}\n",
        "A + C = \\left[ \\begin{array}{rr} 1 & 3 \\\\ 2 & 1 \\end{array}\\right] + \n",
        "\\left[ \\begin{array}{rr} -2 & 1 \\\\ 4 & 1 \\end{array}\\right] \n",
        "= \\left[ \\begin{array}{rr} -1 & 4 \\\\ 6 & 2 \\end{array}\\right]\n",
        "\\end{equation}\n",
        "$$\n",
        "\n",
        "3.  The multiplication of two matrices:\n",
        "\n",
        "$$\n",
        "\\begin{equation}\n",
        "AB = \\left[ \\begin{array}{rr} 1 & 3 \\\\ 2 & 1 \\end{array}\\right]\n",
        "\\left[ \\begin{array}{rrr} 3 & 0 & 4 \\\\ -1 & -2 & 1 \\end{array}\\right]\n",
        " = \\left[ \\begin{array}{rrr} 0 & -6 & 7  \\\\  5 & -2 & 9  \\end{array}\\right]\n",
        " \\end{equation}\n",
        "$$\n",
        " \n",
        "To clarify what happens in the  matrix multiplication, lets calculate two of the entries in detail.\n",
        "\n",
        "$$\n",
        "\\begin{eqnarray*}\n",
        "(AB)_{12} & = & 1\\times 0 + 3 \\times (-2) = -6 \\\\\n",
        "(AB)_{23} & = & 2 \\times 4 + 1 \\times 1 = 9\n",
        "\\end{eqnarray*}\n",
        "$$\n",
        "\n",
        "These matrix operations are all built into NumPy, but we have to use the symbol $\\texttt{@}$ instead of $\\texttt{*}$ for matrix multiplication."
      ]
    },
    {
      "cell_type": "code",
      "execution_count": 75,
      "metadata": {
        "id": "1x5T_yuBfUxX",
        "outputId": "2429c5a1-0d48-4d08-f65f-f620f4cdeb1f",
        "colab": {
          "base_uri": "https://localhost:8080/"
        }
      },
      "outputs": [
        {
          "output_type": "stream",
          "name": "stdout",
          "text": [
            "[[3 9]\n",
            " [6 3]] \n",
            "\n",
            "[[-1  4]\n",
            " [ 6  2]] \n",
            "\n",
            "[[ 0 -6  7]\n",
            " [ 5 -2  9]]\n"
          ]
        }
      ],
      "source": [
        "print(3*A,'\\n')\n",
        "print(A+C,'\\n')\n",
        "print(A@B)"
      ]
    },
    {
      "cell_type": "markdown",
      "metadata": {
        "id": "BHuV_GRQfUxX"
      },
      "source": [
        "### Properties of matrix operations\n",
        "\n",
        "It is useful to observe that some common algebraic properties hold true for matrix multiplication.  Let $A$, $B$, and $C$ be matrices, and $k$ be a scalar.  The associative and distributive properties stated here hold for matrix multiplication.\n",
        "\n",
        "$$\n",
        "\\begin{equation}\n",
        "k(A+B) = kA + kB\n",
        "\\end{equation}\n",
        "$$\n",
        "\n",
        "$$\n",
        "\\begin{equation}\n",
        "C(A+B) = CA + CB\n",
        "\\end{equation}\n",
        "$$\n",
        "\n",
        "$$\n",
        "\\begin{equation}\n",
        "A(BC) = (AB)C\n",
        "\\end{equation}\n",
        "$$\n",
        "\n",
        "These statements only make sense of course if the matrices have dimensions that allow for the operations.\n",
        "\n",
        "It is also worth noting that the commutative property does not generally hold for matrix multiplication.  Suppose for example that $A$ and $B$ are both $3\\times 3$ matrices.  It is **not true in general** that $AB = BA$.  One example with random matrices is enough to prove this point."
      ]
    },
    {
      "cell_type": "code",
      "execution_count": 76,
      "metadata": {
        "id": "69-HtmbKfUxY",
        "outputId": "2e86b14f-76b1-4456-cbbc-3d274b73e7a6",
        "colab": {
          "base_uri": "https://localhost:8080/"
        }
      },
      "outputs": [
        {
          "output_type": "stream",
          "name": "stdout",
          "text": [
            "[[-2 12  6]\n",
            " [-5 -5 -3]\n",
            " [ 5  2 -2]]\n",
            "\n",
            "\n",
            "[[  9   0  -7]\n",
            " [ -7  -8   8]\n",
            " [ 18  -2 -10]]\n"
          ]
        }
      ],
      "source": [
        "A = np.random.randint(-5,5,size=(3,3))\n",
        "B = np.random.randint(-5,5,size=(3,3))\n",
        "\n",
        "print(A@B)\n",
        "print('\\n')\n",
        "print(B@A)"
      ]
    },
    {
      "cell_type": "markdown",
      "metadata": {
        "id": "_5GinxbHfUxZ"
      },
      "source": [
        "### Matrix transposes\n",
        "\n",
        "Another common idea that we will find useful is that of the matrix transpose.  The **transpose** of a matrix $A$ is another matrix, $A^T$, defined so that its columns are the rows of $A$.  To build $A^T$, we simple swap the row index with the column index for every entry, $a^T_{ij} = a_{ji}$.  Two examples should be enough to clarify this definition.\n",
        "\n",
        "$$\n",
        "\\begin{equation}\n",
        "A = \\left[ \\begin{array}{rrr} 5 & 4 & 0 \\\\ 1 & 8 & 3 \\\\ 6 & 7 & 2\\end{array}\\right] \\hspace{1cm}\n",
        "A^T = \\left[ \\begin{array}{rrr} 5 & 1 & 6 \\\\ 4 & 8 & 7 \\\\ 0 & 3 & 2\\end{array}\\right] \\hspace{1cm}\n",
        "\\end{equation}\n",
        "$$\n",
        "\n",
        "$$\n",
        "\\begin{equation}\n",
        "B = \\left[ \\begin{array}{rrr} 1 & 2 & 7 & 0 \\\\ 3 & 1 & 5 & 2 \\\\ 4 & 9 & 8 & 6\\end{array}\\right] \\hspace{1cm}\n",
        "B^T = \\left[ \\begin{array}{rrr} 1 & 3 & 4 \\\\ 2 & 1 & 9 \\\\ 7 & 5 & 8 \\\\ 0 & 2 & 6\\end{array}\\right] \\hspace{1cm}\n",
        "\\end{equation}\n",
        "$$\n",
        "\n",
        "\n",
        "NumPy array objects have a method named $\\texttt{transpose}$ for this purpose."
      ]
    },
    {
      "cell_type": "code",
      "execution_count": 77,
      "metadata": {
        "id": "0c9EywEDfUxa",
        "outputId": "7a0ec2af-b307-44ba-8672-d44633440713",
        "colab": {
          "base_uri": "https://localhost:8080/"
        }
      },
      "outputs": [
        {
          "output_type": "stream",
          "name": "stdout",
          "text": [
            "[[5 4 0]\n",
            " [1 8 3]\n",
            " [6 7 2]]\n",
            "\n",
            "\n",
            "[[5 1 6]\n",
            " [4 8 7]\n",
            " [0 3 2]]\n"
          ]
        }
      ],
      "source": [
        "A = np.array([[5, 4, 0],[1, 8, 3],[6, 7, 2]])\n",
        "\n",
        "## Note that the tranpose method must be called with (), the same as a function with no arguments.\n",
        "A_T = A.transpose()\n",
        "\n",
        "print(A)\n",
        "print('\\n')\n",
        "print(A_T)"
      ]
    },
    {
      "cell_type": "markdown",
      "metadata": {
        "id": "QO4fFxp9fUxb"
      },
      "source": [
        "When a matrix $A$ is equal to its own transpose, it has the property of being symmetric across its main diagonal. For this reason a matrix $A$ is said to be **symmetric** if $A = A^T$. Equivalently, we can say that $A$ is symmetric if $a_{ij} = a_{ji}$ for every entry $a_{ij}$ in the matrix.  The matrix $P$ below is one such example.\n",
        "\n",
        "$$\n",
        "\\begin{equation}\n",
        "P = \\left[ \\begin{array}{rrr} 1 & 0 & 6 \\\\ 0 & 3 & 5 \\\\ 6 & 5 & -2\\end{array}\\right] \\hspace{1cm}\n",
        "\\end{equation}\n",
        "$$\n",
        "\n",
        "Similarly, we say that a matrix $A$ is **skew-symmetric** if $A^T = -A$ (equivalently $a_{ij} = -a_{ji}$ for every entry $a_{ij}$ in $A$). The matrix $Q$ below is a skew-symmetric matrix.\n",
        "\n",
        "$$\n",
        "\\begin{equation}\n",
        "Q = \\left[ \\begin{array}{rrr} 0 & 1 & -4 \\\\ -1 & 0 & 5 \\\\ 4 & -5 & 0\\end{array}\\right] \\hspace{1cm}\n",
        "\\end{equation}\n",
        "$$\n"
      ]
    },
    {
      "cell_type": "markdown",
      "metadata": {
        "id": "pRi_0VCLfUxc"
      },
      "source": [
        "### Application to linear systems\n",
        "\n",
        "A very important example of matrix multiplication is that where a known matrix multiplies an *unknown* vector to produce a known vector.  If we let $A$ be the known matrix, $B$ be the known vector, and $X$ be the unknown vector, we can write the matrix equation $AX=B$ to describe this scenario.  Let's write a specific example.\n",
        "\n",
        "$$\n",
        "\\begin{equation}\n",
        "A= \\left[ \\begin{array}{rrr} 1 & 3 & -2 \\\\ 5 & 2 & 0 \\\\ 4 & 2 & -1 \\\\ 2 & 2 & 0 \\end{array}\\right] \\hspace{1cm}\n",
        "X= \\left[ \\begin{array}{r} x_1 \\\\ x_2 \\\\ x_3 \\end{array}\\right] \\hspace{1cm}\n",
        "B= \\left[ \\begin{array}{r} 0 \\\\ 10 \\\\ 7 \\\\ 4  \\end{array}\\right] \\hspace{1cm}\n",
        "\\end{equation}\n",
        "$$\n",
        "\n",
        "$$\n",
        "\\begin{equation}\n",
        "AX = \\left[ \\begin{array}{rrr} 1 & 3 & -2 \\\\ 5 & 2 & 0 \\\\ 4 & 2 & -1 \\\\ 2 & 2 & 0 \\end{array}\\right]\n",
        "\\left[ \\begin{array}{r} x_1 \\\\ x_2 \\\\ x_3 \\end{array}\\right]=\n",
        "\\left[ \\begin{array}{r} 0\\\\ 10 \\\\ 7 \\\\ 4  \\end{array}\\right]= B\n",
        "\\end{equation}\n",
        "$$\n",
        "\n",
        "If we apply the definition of matrix multiplication we see that this single matrix equation $AX=B$ in fact represents a system of linear equations.\n",
        "\n",
        "$$\n",
        "\\begin{eqnarray*}\n",
        "x_1 + 3x_2 - 2x_3 & = & 0\\\\\n",
        "5x_1 + 2x_2 \\quad\\quad & = & 10 \\\\\n",
        "4x_1 + 2x_2 - x_3 & = & 7 \\\\\n",
        "2x_1 + 2x_2 \\quad\\quad & = & 4\n",
        "\\end{eqnarray*}\n",
        "$$\n",
        "\n",
        "In this context, the matrix $A$ is known as the **coefficient matrix**."
      ]
    },
    {
      "cell_type": "markdown",
      "metadata": {
        "id": "X2tSQmxJfUxd"
      },
      "source": [
        "### Identity matrices\n",
        "\n",
        "An **identity matrix** is a square matrix that behaves similar to the number 1 with respect to ordinary multiplication.  Identity matrices, labeled with $I$, are made up of ones along the main diagonal, and zeros everywhere else.  Below is the $4 \\times 4$ version of $I$.\n",
        "\n",
        "$$\n",
        "\\begin{equation}\n",
        "I = \\left[ \\begin{array}{ccc} 1 & 0 & 0 & 0 \\\\ 0 & 1 & 0 & 0 \\\\ 0 & 0 & 1 & 0\\\\ 0 & 0 & 0 & 1 \\end{array}\\right]\n",
        "\\end{equation}\n",
        "$$\n",
        "\n",
        "If $A$ is any other $4 \\times 4$ matrix, multiplication with $I$ will produce $A$.  Furthermore it doesn't matter in this case which order the multiplication is carried out.\n",
        "\n",
        "$$\n",
        "\\begin{equation}\n",
        "AI = IA = A\n",
        "\\end{equation}\n",
        "$$\n",
        "\n",
        "The NumPy function $\\texttt{eye}$ generates an identity matrix of the specified size.  Note we only need to provide $\\texttt{eye}$ with one parameter since the identity matrix must be square.  We show here the product of $I$ with a random $5\\times 5$ matrix.  "
      ]
    },
    {
      "cell_type": "code",
      "execution_count": 78,
      "metadata": {
        "id": "ZHKeI_vsfUxd",
        "outputId": "240e147a-a4c9-4637-f50a-aec64f1a09f4",
        "colab": {
          "base_uri": "https://localhost:8080/"
        }
      },
      "outputs": [
        {
          "output_type": "stream",
          "name": "stdout",
          "text": [
            "[[1. 0. 0. 0. 0.]\n",
            " [0. 1. 0. 0. 0.]\n",
            " [0. 0. 1. 0. 0.]\n",
            " [0. 0. 0. 1. 0.]\n",
            " [0. 0. 0. 0. 1.]]\n"
          ]
        }
      ],
      "source": [
        "I5 = np.eye(5)\n",
        "print(I5)"
      ]
    },
    {
      "cell_type": "code",
      "execution_count": 79,
      "metadata": {
        "id": "00xSh59FfUxe",
        "outputId": "fb206c39-8d6b-4270-92fb-780ea8cae2e5",
        "colab": {
          "base_uri": "https://localhost:8080/"
        }
      },
      "outputs": [
        {
          "output_type": "stream",
          "name": "stdout",
          "text": [
            "[[ -8   9   0   3  -4]\n",
            " [  8  -1   3  -4 -10]\n",
            " [ -8  -6   7   4   3]\n",
            " [  9  -6   1  -8   3]\n",
            " [  9  -7   2  -4  -1]]\n",
            "\n",
            "\n",
            "[[ -8.   9.   0.   3.  -4.]\n",
            " [  8.  -1.   3.  -4. -10.]\n",
            " [ -8.  -6.   7.   4.   3.]\n",
            " [  9.  -6.   1.  -8.   3.]\n",
            " [  9.  -7.   2.  -4.  -1.]]\n",
            "\n",
            "\n",
            "[[ -8.   9.   0.   3.  -4.]\n",
            " [  8.  -1.   3.  -4. -10.]\n",
            " [ -8.  -6.   7.   4.   3.]\n",
            " [  9.  -6.   1.  -8.   3.]\n",
            " [  9.  -7.   2.  -4.  -1.]]\n"
          ]
        }
      ],
      "source": [
        "R = np.random.randint(-10,10,size=(5,5))\n",
        "print(R)\n",
        "print('\\n')\n",
        "print(R@I5)\n",
        "print('\\n')\n",
        "print(I5@R)"
      ]
    },
    {
      "cell_type": "markdown",
      "metadata": {
        "id": "I_OrPLlefUxe"
      },
      "source": [
        "Notes:\n",
        "\n",
        "1. Actual calculation with identity matrices is rather uncommon, but the idea is useful for symbolic calculations and progressing further with the theory.\n",
        "2. If we are discussing a non-square matrix, then we must take care to use the correct size identity matrix depending on the order of multiplication.  For example, if $C$ is a $2\\times 3$ matrix, $I_2$ is the $2\\times 2$ identity, and $I_3$ is the $3\\times 3 $ identity, we would have the following result.\n",
        "\n",
        "$$\n",
        "\\begin{equation}\n",
        "I_2 C = CI_3 = C\n",
        "\\end{equation}\n",
        "$$"
      ]
    },
    {
      "cell_type": "markdown",
      "metadata": {
        "id": "p3flBNk7fUxf"
      },
      "source": [
        "### Matrix-vector multiplication\n",
        "\n",
        "One special case of matrix multiplication deserves close attention, the case where one of the matrices is a vector.  This case is so important that it is commonly discussed separately and given a special name, **matrix-vector multiplication**.  Let's suppose that $P$ is our matrix and that its shape is $n \\times m$, and $Y$ is our vector which is $m \\times 1$.  The product $PY$ then is a $n \\times 1$ vector.  It is the relationship between this new vector and the columns of the matrix $P$ that makes this situation important.\n",
        "\n",
        "Let's have a look with a specific example.\n",
        "\n",
        "$$\n",
        "\\begin{equation}\n",
        "P = \\left[ \\begin{array}{rrr} 1 & 3 & -2 \\\\ 5 & 2 & 0 \\\\ 4 & 2 & -1 \\\\ 2 & 2 & 0 \\end{array}\\right]\\hspace{1cm}\n",
        "Y = \\left[ \\begin{array}{r} 2 \\\\ -3 \\\\ 4 \\end{array}\\right]\n",
        "\\end{equation}\n",
        "$$\n",
        "\n",
        "In this case of matrix-vector multiplication, we can package the calculation a bit differently to better understand what is happening.\n",
        "\n",
        "$$\n",
        "\\begin{equation}\n",
        "PY = \\left[ \\begin{array}{rrr} 1 & 3 & -2 \\\\ 5 & 2 & 0 \\\\ 4 & 2 & -1 \\\\ 2 & 2 & 0 \\end{array}\\right]\n",
        "\\left[ \\begin{array}{r} 2 \\\\ -3 \\\\ 4 \\end{array}\\right]=\n",
        "2\\left[ \\begin{array}{r} 1 \\\\ 5 \\\\ 4 \\\\ 2 \\end{array}\\right] -\n",
        "3\\left[ \\begin{array}{r} 3 \\\\ 2 \\\\ 2 \\\\ 2 \\end{array}\\right] +\n",
        "4\\left[ \\begin{array}{r} -2 \\\\ 0 \\\\ -1 \\\\ 0 \\end{array}\\right] =\n",
        "\\left[ \\begin{array}{r} -15\\\\ 4 \\\\ -2 \\\\ -2  \\end{array}\\right]\n",
        "\\end{equation}\n",
        "$$\n",
        "\n",
        "This is the same operation that we were doing before, but now we see that this product is a result of adding the columns of $P$ after first multiplying each by the corresponding entry in $Y$."
      ]
    },
    {
      "cell_type": "markdown",
      "metadata": {
        "id": "BtmHdW8GfUxf"
      },
      "source": [
        "### Matrix multiplication by columns\n",
        "\n",
        "We can extend the calculation of matrix-vector multiplication to better understand exactly what is produced by matrix-matrix multiplication.  Suppose for example that $Y$ from the earlier calculation was actually the third column of a $3\\times 4$ matrix $C$.\n",
        "\n",
        "$$\n",
        "\\begin{equation}\n",
        "C = \\left[ \\begin{array}{rrrr} * & * & 2 & * \\\\ * & * & -3 & * \\\\ * & * & 4 & *\\end{array}\\right]\n",
        "\\end{equation}\n",
        "$$\n",
        "\n",
        "The third column of the product $PC$ will be exactly $PY$!  The other columns of $PC$ will be the products of $P$ with the corresponding columns of $C$.\n",
        "\n",
        "$$\n",
        "\\begin{equation}\n",
        "PC = \\left[ \\begin{array}{rrrr} * & * & -15 & * \\\\ * & * & 4 & * \\\\* & * & -2 & *  \\\\ * & * & -2 & *\\end{array}\\right]\n",
        "\\end{equation}\n",
        "$$\n"
      ]
    },
    {
      "cell_type": "markdown",
      "metadata": {
        "id": "YiUZCC9GfUxg"
      },
      "source": [
        "This discussion offers a great opportunity to learn how to perform operations on portions of NumPy arrays using a feature called **slicing**.  Let's build the matrices $P$ and $C$, and then define $X$ as a **subarray** of $C$.  To create a subarray of $C$, we use the syntax $\\texttt{C[a:b,c:d]}$.  This will create an array object that has shape $(b-a)\\times(d-c)$ and contains the entries of rows $a$ to $b-1$ and columns $c$ to $d-1$ of $C$.    \n",
        "\n",
        "Specifically, we want $X$ to include all rows of $C$, but only the third column (which has Python index 2!).  "
      ]
    },
    {
      "cell_type": "code",
      "execution_count": 80,
      "metadata": {
        "id": "yd1xCicpfUxg",
        "outputId": "3c80e30e-f02b-4bce-f155-ba93712d745a",
        "colab": {
          "base_uri": "https://localhost:8080/"
        }
      },
      "outputs": [
        {
          "output_type": "stream",
          "name": "stdout",
          "text": [
            "[[ 1  3 -2]\n",
            " [ 5  2  0]\n",
            " [ 4  2 -1]\n",
            " [ 2  2  0]] \n",
            "\n",
            "[[ 0  6  2  6]\n",
            " [-1  1 -3  4]\n",
            " [ 0  2  4  8]] \n",
            "\n",
            "[[ 2]\n",
            " [-3]\n",
            " [ 4]] \n",
            "\n",
            "[[-15]\n",
            " [  4]\n",
            " [ -2]\n",
            " [ -2]]\n"
          ]
        }
      ],
      "source": [
        "\n",
        "P = np.array([[1, 3, -2],[5, 2, 0],[4, 2, -1],[2, 2, 0]])\n",
        "C = np.array([[0, 6, 2, 6],[-1, 1, -3, 4],[0, 2, 4, 8]])\n",
        "X = C[0:3,2:3]\n",
        "print(P,'\\n')\n",
        "print(C,'\\n')\n",
        "print(X,'\\n')\n",
        "print(P@X)"
      ]
    },
    {
      "cell_type": "markdown",
      "metadata": {
        "id": "v_xQIFwrfUxh"
      },
      "source": [
        "Notes on array slicing:\n",
        "\n",
        "- Another way to select all rows (or all columns) from an array is to use : without any numbers.  In our example above, we could have used the following line of code to produce the same result.  Try it out by editing the cell above!\n",
        "```\n",
        "X = C[:,2:3]\n",
        "```\n",
        "- If we only want to select a single row or column, it is tempting to try a line of code like the following.\n",
        "```\n",
        "X = C[:,2]\n",
        "```\n",
        "this is indeed valid code, but the array $X$ is not exactly what we expect.  Instead we get an array with the correct entries, but not the correct shape.  It is possible to make this work, but let's avoid this complication.\n"
      ]
    },
    {
      "cell_type": "markdown",
      "metadata": {
        "id": "T3cVbExIfUxh"
      },
      "source": [
        "### Exercises\n",
        "\n",
        "**Exercise 1:** Calculate $-2E$, $G+F$, $4F-G$, $HG$, and $GE$ using the following matrix definitions.  Do the exercise on paper first, then check by doing the calculation with NumPy arrays.\n",
        "\n",
        "$$\n",
        "\\begin{equation}\n",
        "E = \\left[ \\begin{array}{r} 5 \\\\ -2 \\end{array}\\right] \\hspace{1cm} \n",
        "F = \\left[ \\begin{array}{rr} 1 & 6 \\\\ 2 & 0 \\\\ -1 & -1 \\end{array}\\right] \\hspace{1cm}\n",
        "G = \\left[ \\begin{array}{rr} 2 & 0\\\\ -1 & 3 \\\\ -1 & 6 \\end{array}\\right] \\hspace{1cm}\n",
        "H = \\left[ \\begin{array}{rrr} 3 & 0 & 1 \\\\ 1 & -2 & 2 \\\\ 3 & 4 & -1\\end{array}\\right]\n",
        "\\end{equation}\n",
        "$$"
      ]
    },
    {
      "cell_type": "code",
      "execution_count": 81,
      "metadata": {
        "id": "R1Tbl5COfUxh",
        "colab": {
          "base_uri": "https://localhost:8080/"
        },
        "outputId": "6eaaf85b-d701-413f-cf44-a57f61649264"
      },
      "outputs": [
        {
          "output_type": "stream",
          "name": "stdout",
          "text": [
            "[[-10]\n",
            " [  4]]\n",
            "\n",
            "\n",
            "[[ 0  0  1]\n",
            " [-3 -8  2]\n",
            " [-3  3 -1]]\n",
            "\n",
            "\n",
            "[[ 15  20  -1]\n",
            " [ -7  -7  -2]\n",
            " [-22  17   1]]\n",
            "\n",
            "\n",
            "[[ -7 -13   2]\n",
            " [  3   4  -5]\n",
            " [-15 -31  12]]\n",
            "\n",
            "\n",
            "[[-10  12 -12]\n",
            " [ -2  18 -13]\n",
            " [  2  -2   1]]\n"
          ]
        }
      ],
      "source": [
        "E=np.array([[5],[-2]])\n",
        "F=np.array([[1,6],[2,0],[-1,-1]])\n",
        "G=np.array([[2,0],[-1,3],[-1,6]])\n",
        "H=np.array([[3, 0, 1],[1,-2,2],[3,4,-1]])\n",
        "G = np.random.randint(-5,5,size=(3,3))\n",
        "h = np.random.randint(-5,5,size=(3,3))\n",
        "F = np.random.randint(-5,5,size=(3,3))\n",
        "print(-2*E)\n",
        "print (\"\\n\")\n",
        "print(G+F)\n",
        "print(\"\\n\")\n",
        "print(4*F-G)\n",
        "print(\"\\n\")\n",
        "print(H@G)\n",
        "print(\"\\n\")\n",
        "print(G@H)"
      ]
    },
    {
      "cell_type": "markdown",
      "metadata": {
        "id": "1fWuYafDfUxh"
      },
      "source": [
        "**Exercise 2:** Find the values of $y$ so that this equation holds.\n",
        "\n",
        "$$\n",
        "\\begin{equation}\n",
        "\\left[ \\begin{array}{rr} 1 & 0 & 2 & -1 \\\\ 3 & 1 & -3 & 2 \\\\ 2 & 0 & 4 & 4 \\\\ 2 & 1 & -1 & -1 \\end{array}\\right]\n",
        "\\left[ \\begin{array}{rr} y1 \\\\ y2 \\\\ y3 \\\\ y4\\end{array}\\right]=\n",
        "\\left[ \\begin{array}{rr} 0 \\\\ 0 \\\\ 1 \\\\ 0 \\end{array}\\right] \n",
        "\\end{equation}\n",
        "$$"
      ]
    },
    {
      "cell_type": "code",
      "source": [
        "try:\n",
        "    m = np.matrix([[1,0, 2, -1],[3, 1, -3, 2],[2,0,4,4],[2,1,-1,-1]])\n",
        "    x=np.matrix([[0],[0],[1],[0]])\n",
        "    inverse = m.I\n",
        "    y= inverse @ x\n",
        "    print (y)\n",
        "except:\n",
        "    print(\"Singular Matrix, Inverse not possible.\")\n"
      ],
      "metadata": {
        "id": "pQAzh-vLjGOU",
        "colab": {
          "base_uri": "https://localhost:8080/"
        },
        "outputId": "aacf3f7c-e03d-4cf4-bc0e-39edf9c9eea8"
      },
      "execution_count": 82,
      "outputs": [
        {
          "output_type": "stream",
          "name": "stdout",
          "text": [
            "[[-0.16666667]\n",
            " [ 0.66666667]\n",
            " [ 0.16666667]\n",
            " [ 0.16666667]]\n"
          ]
        }
      ]
    },
    {
      "cell_type": "markdown",
      "metadata": {
        "id": "mwUPmU4ifUxi"
      },
      "source": [
        "**Exercise 3:** Define NumPy arrays for the matrices $H$ and $G$ given below.  \n",
        "\n",
        "$$\n",
        "\\begin{equation}\n",
        "H = \\left[ \\begin{array}{rrr} 3 & 3 & -1  \\\\ -3 & 0 & 8 \\\\  1 & 6 & 5 \\end{array}\\right]\\hspace{2cm}\n",
        "G = \\left[ \\begin{array}{rrrr} 1 & 5 & 2 & -3 \\\\ 7 & -2 & -3 & 0 \\\\ 2 & 2 & 4 & 6\\end{array}\\right]\n",
        "\\end{equation}\n",
        "$$\n",
        "\n",
        "$(a)$ Multiply the second and third column of $H$ with the first and second row of $G$.  Use slicing to make subarrays.  Does the result have any relationship to the full product $HG$?\n",
        "\n",
        "$(b)$ Multiply the first and second row of $H$ with the second and third column of $G$.  Does this result have any relationship to the full product $HG$?\n"
      ]
    },
    {
      "cell_type": "markdown",
      "source": [
        "No their is no relationship to the full product HG in the two results a and b"
      ],
      "metadata": {
        "id": "nq3lGuPmIO6_"
      }
    },
    {
      "cell_type": "code",
      "execution_count": 83,
      "metadata": {
        "id": "1GpInaFCfUxj",
        "colab": {
          "base_uri": "https://localhost:8080/"
        },
        "outputId": "63aa3475-ecdb-4535-bf40-314aa98a2c9a"
      },
      "outputs": [
        {
          "output_type": "stream",
          "name": "stdout",
          "text": [
            "[[ 3 -1]\n",
            " [ 0  8]\n",
            " [ 6  5]]\n",
            "\n",
            "\n",
            "[[ 1  5  2]\n",
            " [ 7 -2 -3]]\n",
            "\n",
            "\n",
            "[[ -4  17   9]\n",
            " [ 56 -16 -24]\n",
            " [ 41  20  -3]]\n",
            "\n",
            "\n",
            "[[  9  15  11]\n",
            " [  3  -6 -22]\n",
            " [ -6   6  30]]\n",
            "\n",
            "\n",
            "[[ 22   7  -7 -15]\n",
            " [ 13   1  26  57]\n",
            " [ 53   3   4  27]]\n"
          ]
        }
      ],
      "source": [
        "H= np.matrix([[3,3,-1],[-3,0,8],[1,6,5]])\n",
        "G= np.matrix([[1,5,2,-3],[7,-2,-3,0],[2,2,4,6]])\n",
        "z = H[0:3,1:3]\n",
        "w = G[0:2,0:3]\n",
        "print(z)\n",
        "print(\"\\n\")\n",
        "print(w)\n",
        "print(\"\\n\")\n",
        "print(z@w)\n",
        "print(\"\\n\")\n",
        "z = G[0:3,1:3]\n",
        "w = H[0:2,0:3]\n",
        "print(z@w)\n",
        "print(\"\\n\")\n",
        "print(H@G)\n",
        "#No their is no relationship to the full product HG in the two results a and b"
      ]
    },
    {
      "cell_type": "markdown",
      "metadata": {
        "id": "DqnXF27AfUxj"
      },
      "source": [
        "**Exercise 4:** Generate a $4\\times 4$ matrix $B$ with random integer entries.  Compute matrices $P = \\frac12(B+B^T)$ and $Q = \\frac12(B-B^T)$.  Rerun your code several times to get different matrices.  What do you notice about $P$ and $Q$?  Explain why it must always be true.       "
      ]
    },
    {
      "cell_type": "code",
      "execution_count": 84,
      "metadata": {
        "id": "wkSAmFc_fUxk",
        "colab": {
          "base_uri": "https://localhost:8080/"
        },
        "outputId": "a89308ca-ae00-424d-96a8-8e794b412ed2"
      },
      "outputs": [
        {
          "output_type": "stream",
          "name": "stdout",
          "text": [
            "[[  1  -7   4   3 -10]\n",
            " [  9   6  -5  -7   1]\n",
            " [  6   7   8   5   6]\n",
            " [-10  -7  -2   2   4]\n",
            " [  6   9   5  -3  -6]]\n",
            "\n",
            "\n",
            "[[  1   9   6 -10   6]\n",
            " [ -7   6   7  -7   9]\n",
            " [  4  -5   8  -2   5]\n",
            " [  3  -7   5   2  -3]\n",
            " [-10   1   6   4  -6]]\n",
            "\n",
            "\n",
            "[[ 1.   1.   5.  -3.5 -2. ]\n",
            " [ 1.   6.   1.  -7.   5. ]\n",
            " [ 5.   1.   8.   1.5  5.5]\n",
            " [-3.5 -7.   1.5  2.   0.5]\n",
            " [-2.   5.   5.5  0.5 -6. ]]\n",
            "\n",
            "\n",
            "[[ 0.  -8.  -1.   6.5 -8. ]\n",
            " [ 8.   0.  -6.   0.  -4. ]\n",
            " [ 1.   6.   0.   3.5  0.5]\n",
            " [-6.5  0.  -3.5  0.   3.5]\n",
            " [ 8.   4.  -0.5 -3.5  0. ]]\n",
            "\n",
            "\n"
          ]
        }
      ],
      "source": [
        "B = np.random.randint(-10,10,size=(5,5))\n",
        "print(B)\n",
        "Bt=B.T\n",
        "print(\"\\n\")\n",
        "print(Bt)\n",
        "P= 0.5*(B+Bt)\n",
        "print(\"\\n\")\n",
        "print(P)\n",
        "Q= 0.5*(B-Bt)\n",
        "print(\"\\n\")\n",
        "print(Q)\n",
        "print(\"\\n\")\n",
        "# Pand Q have diffrent valuse from each it must alwas to be true because we add \n",
        "# and substact from the same matrix meanly that would be so diffrent from each other"
      ]
    },
    {
      "cell_type": "markdown",
      "source": [
        "**Exercise 5:** Create a Python function named **Angle** which takes two vectors as arguments and returns **cos(Theta)** where **Theta** is the angle between the two vectors. Use this function to show that vectors $U$ and $W$ are orthogonal.\n",
        "    \n",
        "$$\n",
        "\\begin{equation}\n",
        "U = \\left[ \\begin{array}{rrr} 1 \\\\ -1 \\\\ 2 \\end{array}\\right]\\hspace{2cm}\n",
        "W = \\left[ \\begin{array}{rrrr} 2 \\\\ 0 \\\\ -1 \\end{array}\\right]\n",
        "\\end{equation}\n",
        "$$\n",
        "\n",
        "\n"
      ],
      "metadata": {
        "id": "PNB6qdMHtywM"
      }
    },
    {
      "cell_type": "code",
      "source": [
        "import math\n",
        "V1=np.array([[1],[-1],[2]])\n",
        "V2=np.array([[2],[0],[-1]])\n",
        "N=len(V1)\n",
        "import math\n",
        " \n",
        "# Function to find the magnitude\n",
        "# of the given vector\n",
        "def magnitude(arr, N):\n",
        " \n",
        "    # Stores the final magnitude\n",
        "    magnitude = 0\n",
        " \n",
        "    # Traverse the array\n",
        "    for i in range(N):\n",
        "        magnitude += arr[i] * arr[i]\n",
        " \n",
        "    # Return square root of magnitude\n",
        "    return math.sqrt(magnitude)\n",
        " \n",
        "# Function to find the dot\n",
        "# product of two vectors\n",
        " \n",
        " \n",
        "def dotProduct(arr, brr, N):\n",
        " \n",
        "    # Stores dot product\n",
        "    product = 0\n",
        " \n",
        "    # Traverse the array\n",
        "    for i in range(N):\n",
        "        product = product + arr[i] * brr[i]\n",
        " \n",
        "    # Return the product\n",
        "    return product\n",
        " \n",
        " \n",
        "def angle(arr, brr, N):\n",
        " \n",
        "    # Stores dot product of two vectors\n",
        "    dotProductOfVectors = dotProduct(arr, brr, N)\n",
        " \n",
        "    # Stores magnitude of vector A\n",
        "    magnitudeOfA = magnitude(arr, N)\n",
        " \n",
        "    # Stores magnitude of vector B\n",
        "    magnitudeOfB = magnitude(brr, N)\n",
        " \n",
        "    # Stores angle between given vectors\n",
        "    angle = (dotProductOfVectors\n",
        "             / (magnitudeOfA * magnitudeOfB))\n",
        " \n",
        "    # Print the angle\n",
        "    print(' angel between two vectors = %.5f'%angle)\n",
        "    print ('cos angle = ', math.cos(angle))\n",
        "     \n",
        " \n",
        "\n",
        "angle(V1, V2, N)\n",
        " \n"
      ],
      "metadata": {
        "id": "gSDCg0gPtz8K",
        "colab": {
          "base_uri": "https://localhost:8080/"
        },
        "outputId": "e78756e9-06ad-4f1f-8dd3-3157a9023a43"
      },
      "execution_count": 123,
      "outputs": [
        {
          "output_type": "stream",
          "name": "stdout",
          "text": [
            " angel between two vectors = 0.00000\n",
            "cos angle =  1.0\n"
          ]
        }
      ]
    }
  ],
  "metadata": {
    "kernelspec": {
      "display_name": "Python 3",
      "language": "python",
      "name": "python3"
    },
    "language_info": {
      "codemirror_mode": {
        "name": "ipython",
        "version": 3
      },
      "file_extension": ".py",
      "mimetype": "text/x-python",
      "name": "python",
      "nbconvert_exporter": "python",
      "pygments_lexer": "ipython3",
      "version": "3.7.3"
    },
    "colab": {
      "provenance": [],
      "collapsed_sections": [],
      "include_colab_link": true
    }
  },
  "nbformat": 4,
  "nbformat_minor": 0
}