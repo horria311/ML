{
  "nbformat": 4,
  "nbformat_minor": 0,
  "metadata": {
    "colab": {
      "provenance": [],
      "include_colab_link": true
    },
    "kernelspec": {
      "name": "python3",
      "display_name": "Python 3"
    },
    "language_info": {
      "name": "python"
    }
  },
  "cells": [
    {
      "cell_type": "markdown",
      "metadata": {
        "id": "view-in-github",
        "colab_type": "text"
      },
      "source": [
        "<a href=\"https://colab.research.google.com/github/horria311/ML/blob/main/S5_Machine_Learning_Basics_2-2.ipynb\" target=\"_parent\"><img src=\"https://colab.research.google.com/assets/colab-badge.svg\" alt=\"Open In Colab\"/></a>"
      ]
    },
    {
      "cell_type": "markdown",
      "source": [
        "## Logistic Regression"
      ],
      "metadata": {
        "id": "IU6a3N7osOjZ"
      }
    },
    {
      "cell_type": "code",
      "execution_count": null,
      "metadata": {
        "id": "wX-soNv0pOJl",
        "colab": {
          "base_uri": "https://localhost:8080/",
          "height": 607
        },
        "outputId": "248df064-2e6d-4ef3-b75c-d9d266d22d00"
      },
      "outputs": [
        {
          "output_type": "stream",
          "name": "stderr",
          "text": [
            "WARNING:matplotlib.legend:No handles with labels found to put in legend.\n"
          ]
        },
        {
          "output_type": "stream",
          "name": "stdout",
          "text": [
            "Data Shape: (100, 3)\n",
            "           0          1  2\n",
            "0  34.623660  78.024693  0\n",
            "1  30.286711  43.894998  0\n",
            "2  35.847409  72.902198  0\n",
            "3  60.182599  86.308552  1\n",
            "4  79.032736  75.344376  1\n",
            "Shape of Feature Matrix: (100, 1)\n",
            "Shape Label Vector: (100, 1)\n"
          ]
        },
        {
          "output_type": "display_data",
          "data": {
            "text/plain": [
              "<Figure size 432x288 with 1 Axes>"
            ],
            "image/png": "[encoded data removed]"
          },
          "metadata": {
            "needs_background": "light"
          }
        },
        {
          "output_type": "stream",
          "name": "stdout",
          "text": [
            "m = 100\n",
            "n = 100\n",
            "Learning Rate = 0.0035\n",
            "Number of Epochs = 500\n",
            "Epoch 100 Cost: 138.43384552001953\n",
            "Epoch 200 Cost: 136.75181579589844\n",
            "Epoch 300 Cost: 135.8441162109375\n",
            "Epoch 400 Cost: 135.15711212158203\n"
          ]
        }
      ],
      "source": [
        "import numpy as np\n",
        "import tensorflow as tf\n",
        "import tensorflow.compat.v1 as tf\n",
        "from sklearn.preprocessing import OneHotEncoder\n",
        "import pandas as pd\n",
        "# Feature Matrix\n",
        "\n",
        "data = pd.read_csv('marks.csv', header = None)\n",
        "print(\"Data Shape:\", data.shape)\n",
        "  \n",
        "print(data.head())\n",
        "def sigmoid(z):\n",
        "    # Activation function used to map any real value between 0 and 1\n",
        "    return 1 / (1 + np.exp( - z))\n",
        "\n",
        "\n",
        "# Feature Matrix\n",
        "x_orig = data.iloc[:, 1:-1].values\n",
        "\n",
        "# Data labels\n",
        "y_orig = data.iloc[:, -1:].values\n",
        "\n",
        "print(\"Shape of Feature Matrix:\", x_orig.shape)\n",
        "print(\"Shape Label Vector:\", y_orig.shape)\n",
        "\n",
        "# Positive Data Points\n",
        "x_pos = np.array([x_orig[i] for i in range(len(x_orig))\n",
        "                  if y_orig[i] == 1])\n",
        "\n",
        "# Negative Data Points\n",
        "x_neg = np.array([x_orig[i] for i in range(len(x_orig))\n",
        "                  if y_orig[i] == 0])\n",
        "\n",
        "\n",
        "\n",
        "plt.xlabel('Feature 1')\n",
        "plt.ylabel('Feature 2')\n",
        "plt.title('Plot of given data')\n",
        "plt.legend()\n",
        "\n",
        "plt.show()\n",
        "# Creating the One Hot Encoder\n",
        "oneHot = OneHotEncoder()\n",
        "\n",
        "# Encoding x_orig\n",
        "oneHot.fit(x_orig)\n",
        "x = oneHot.transform(x_orig).toarray()\n",
        "\n",
        "# Encoding y_orig\n",
        "oneHot.fit(y_orig)\n",
        "y = oneHot.transform(y_orig).toarray()\n",
        "\n",
        "alpha, epochs = 0.0035, 500\n",
        "m, n = x.shape\n",
        "print('m =', m)\n",
        "print('n =', n)\n",
        "print('Learning Rate =', alpha)\n",
        "print('Number of Epochs =', epochs)\n",
        "# There are n columns in the feature matrix\n",
        "# after One Hot Encoding.\n",
        "tf.compat.v1.disable_eager_execution()\n",
        "X = tf.placeholder(tf.float32, [None, n])\n",
        "\n",
        "# Since this is a binary classification problem,\n",
        "# Y can take only 2 values.\n",
        "Y = tf.placeholder(tf.float32, [None, 2])\n",
        "\n",
        "# Trainable Variable Weights\n",
        "W = tf.Variable(tf.zeros([n, 2]))\n",
        "\n",
        "# Trainable Variable Bias\n",
        "b = tf.Variable(tf.zeros([2]))\n",
        "# Hypothesis\n",
        "Y_hat = tf.nn.sigmoid(tf.add(tf.matmul(X, W), b))\n",
        "\n",
        "# Sigmoid Cross Entropy Cost Function\n",
        "cost = tf.nn.sigmoid_cross_entropy_with_logits(\n",
        "        logits = Y_hat, labels = Y)\n",
        "\n",
        "# Gradient Descent Optimizer\n",
        "optimizer = tf.train.GradientDescentOptimizer(\n",
        "  learning_rate = alpha).minimize(cost)\n",
        "\n",
        "# Global Variables Initializer\n",
        "init = tf.global_variables_initializer()\n",
        "\n",
        "# Starting the Tensorflow Session\n",
        "with tf.Session() as sess:\n",
        "\n",
        "  # Initializing the Variables\n",
        "  sess.run(init)\n",
        "\n",
        "  # Lists for storing the changing Cost and Accuracy in every Epoch\n",
        "  cost_history, accuracy_history = [], []\n",
        "\n",
        "  # Iterating through all the epochs\n",
        "  for epoch in range(epochs):\n",
        "    cost_per_epoch = 0\n",
        "    \n",
        "    # Running the Optimizer\n",
        "    sess.run(optimizer, feed_dict = {X : x, Y : y})\n",
        "    \n",
        "    # Calculating cost on current Epoch\n",
        "    c = sess.run(cost, feed_dict = {X : x, Y : y})\n",
        "    \n",
        "    # Calculating accuracy on current Epoch\n",
        "    correct_prediction = tf.equal(tf.argmax(Y_hat, 1),\n",
        "                    tf.argmax(Y, 1))\n",
        "    accuracy = tf.reduce_mean(tf.cast(correct_prediction,\n",
        "                        tf.float32))\n",
        "    \n",
        "    # Storing Cost and Accuracy to the history\n",
        "    cost_history.append(sum(sum(c)))\n",
        "    accuracy_history.append(accuracy.eval({X : x, Y : y}) * 100)\n",
        "    \n",
        "    # Displaying result on current Epoch\n",
        "    if epoch % 100 == 0 and epoch != 0:\n",
        "      print(\"Epoch \" + str(epoch) + \" Cost: \"\n",
        "              + str(cost_history[-1]))\n",
        "\n",
        "  Weight = sess.run(W) # Optimized Weight\n",
        "  Bias = sess.run(b) # Optimized Bias\n",
        "\n",
        "  # Final Accuracy\n",
        "  correct_prediction = tf.equal(tf.argmax(Y_hat, 1),\n",
        "                  tf.argmax(Y, 1))\n",
        "  accuracy = tf.reduce_mean(tf.cast(correct_prediction,\n",
        "                      tf.float32))\n",
        "  print(\"\\nAccuracy:\", accuracy_history[-1], \"%\")\n",
        "  \n",
        "plt.plot(list(range(epochs)), cost_history)\n",
        "plt.xlabel('Epochs')\n",
        "plt.ylabel('Cost')\n",
        "plt.title('Decrease in Cost with Epochs')\n",
        "plt.show()\n",
        "plt.plot(list(range(epochs)), accuracy_history)\n",
        "plt.xlabel('Epochs')\n",
        "plt.ylabel('Accuracy')\n",
        "plt.title('Increase in Accuracy with Epochs')\n",
        "\n",
        "plt.show()\n",
        "# Calculating the Decision Boundary\n",
        "decision_boundary_x = np.array([np.min(x_orig[:, 0]),\n",
        "              np.max(x_orig[:, 0])])\n",
        "\n",
        "decision_boundary_y = (- 1.0 / Weight[0]) *(decision_boundary_x * Weight + Bias)\n",
        "\n",
        "decision_boundary_y = [sum(decision_boundary_y[:, 0]), sum(decision_boundary_y[:, 1])]\n",
        "\n",
        "# Positive Data Points\n",
        "x_pos = np.array([x_orig[i] for i in range(len(x_orig))\n",
        "                  if y_orig[i] == 1])\n",
        "\n",
        "# Negative Data Points\n",
        "x_neg = np.array([x_orig[i] for i in range(len(x_orig))\n",
        "                  if y_orig[i] == 0])\n",
        "\n",
        "# Plotting the Positive Data Points\n",
        "plt.scatter(x_pos[:, 0], x_pos[:, 1],color = 'blue', label = 'Positive')\n",
        "\n",
        "# Plotting the Negative Data Points\n",
        "plt.scatter(x_neg[:, 0], x_neg[:, 1],color = 'red', label = 'Negative')\n",
        "\n",
        "# Plotting the Decision Boundary\n",
        "plt.plot(decision_boundary_x, decision_boundary_y)\n",
        "plt.xlabel('Feature 1')\n",
        "plt.ylabel('Feature 2')\n",
        "plt.title('Plot of Decision Boundary')\n",
        "plt.legend()\n",
        "plt.show()\n"
      ]
    },
    {
      "cell_type": "markdown",
      "source": [
        "## Decision Trees"
      ],
      "metadata": {
        "id": "q4-P7tQisLQq"
      }
    },
    {
      "cell_type": "code",
      "source": [
        "from sklearn.datasets import load_iris\n",
        "from sklearn import tree\n",
        "from sklearn.metrics import classification_report, accuracy_score\n",
        "from sklearn.model_selection import train_test_split\n",
        "import matplotlib.pyplot as plt\n",
        "import graphviz\n",
        "import os\n",
        "\n",
        "iris = load_iris()\n",
        "X_train, X_test, y_train, y_test = train_test_split(iris.data, iris.target, test_size=0.4, random_state=17)\n",
        "\n",
        "clf = tree.DecisionTreeClassifier()\n",
        "clf = clf.fit(X_train, y_train)\n",
        "y_pred = clf.predict(X_test)\n",
        "\n",
        "print('Accuracy: {0:.4f}'.format(accuracy_score(y_test, y_pred)))\n",
        "\n",
        "\n",
        "dot = tree.export_graphviz(clf, feature_names=iris.feature_names, class_names=iris.target_names, filled=True, rounded=True, special_characters=True)\n",
        "graph = graphviz.Source(dot)\n",
        "graph.format = 'png'\n",
        "graph.render('iris', view=True)\n",
        "\n",
        "\n",
        "# List of values to try for max_depth:\n",
        "max_depth_range = list(range(1, 6))# List to store the average RMSE for each value of max_depth:\n",
        "accuracy = []\n",
        "for depth in max_depth_range:\n",
        "    clf = tree.DecisionTreeClassifier(max_depth = depth)\n",
        "    clf.fit(X_train, y_train)\n",
        "    score = clf.score(X_test, y_test)\n",
        "    accuracy.append(score)\n",
        "\n",
        "plt.scatter(max_depth_range, accuracy)\n",
        "plt.xlabel('Max Depth Range', fontsize = 20)\n",
        "plt.ylabel('Accuarcy', fontsize = 20)\n",
        "plt.plot(max_depth_range, accuracy, color='red', linewidth = 3)\n",
        "plt.show()\n"
      ],
      "metadata": {
        "colab": {
          "base_uri": "https://localhost:8080/",
          "height": 305
        },
        "id": "w_S-ZKylrlAd",
        "outputId": "e04bfc90-3c8f-462b-9110-1bc12d4856d3"
      },
      "execution_count": 78,
      "outputs": [
        {
          "output_type": "stream",
          "name": "stdout",
          "text": [
            "Accuracy: 0.9667\n"
          ]
        },
        {
          "output_type": "display_data",
          "data": {
            "text/plain": [
              "<Figure size 432x288 with 1 Axes>"
            ],
            "image/png": "[encoded data removed]"
          },
          "metadata": {
            "needs_background": "light"
          }
        }
      ]
    },
    {
      "cell_type": "markdown",
      "source": [
        "## Adaboost"
      ],
      "metadata": {
        "id": "xOrKHHgrsZOS"
      }
    },
    {
      "cell_type": "code",
      "source": [
        "import numpy as np\n",
        "import matplotlib.pyplot as plt\n",
        "import pandas as pd\n",
        "from sklearn import tree\n",
        "from sklearn.model_selection import train_test_split\n",
        "from sklearn.neighbors import KNeighborsClassifier\n",
        "from sklearn.preprocessing import StandardScaler\n",
        "from sklearn.ensemble import AdaBoostClassifier\n",
        "from sklearn.tree import DecisionTreeClassifier\n",
        "#import graphviz\n",
        "\n",
        "dataset = pd.read_csv('iris.csv')\n",
        "\n",
        "X = dataset.iloc[:, :-1].values\n",
        "y = dataset.iloc[:, 4].values\n",
        "X_train, X_test, y_train, y_test = train_test_split(X, y, test_size=0.4)\n",
        "\n",
        "bdt = AdaBoostClassifier(DecisionTreeClassifier(max_depth=1),\n",
        "                         algorithm=\"SAMME.R\",\n",
        "                         n_estimators=100)\n",
        "\n",
        "scaler = StandardScaler()\n",
        "scaler.fit(X_train)\n",
        "\n",
        "X_train = scaler.transform(X_train)\n",
        "X_test = scaler.transform(X_test)\n",
        "\n",
        "bdt.fit(X_train,y_train)\n",
        "y_prediction = bdt.predict(X_test)\n",
        "accuracy=np.mean(y_prediction == y_test)*100\n",
        "print(\"The achieved accuracy using Adaboost is \" + str(accuracy))\n",
        "error = []\n",
        "clf = tree.DecisionTreeClassifier(max_depth=3)\n",
        "clf.fit(X_train,y_train)\n",
        "y_prediction = clf.predict(X_test)\n",
        "accuracy=np.mean(y_prediction == y_test)*100\n",
        "print(\"The achieved accuracy using Decision Tree is \" + str(accuracy))\n"
      ],
      "metadata": {
        "colab": {
          "base_uri": "https://localhost:8080/"
        },
        "id": "X4_15k28scae",
        "outputId": "9e8b9912-6c1d-403c-ff6b-7a84568574ec"
      },
      "execution_count": 79,
      "outputs": [
        {
          "output_type": "stream",
          "name": "stdout",
          "text": [
            "The achieved accuracy using Adaboost is 93.33333333333333\n",
            "The achieved accuracy using Decision Tree is 93.33333333333333\n"
          ]
        }
      ]
    }
  ]
}